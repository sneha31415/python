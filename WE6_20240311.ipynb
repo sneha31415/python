{
  "nbformat": 4,
  "nbformat_minor": 0,
  "metadata": {
    "colab": {
      "private_outputs": true,
      "provenance": [],
      "include_colab_link": true
    },
    "kernelspec": {
      "name": "python3",
      "display_name": "Python 3"
    },
    "language_info": {
      "name": "python"
    }
  },
  "cells": [
    {
      "cell_type": "markdown",
      "metadata": {
        "id": "view-in-github",
        "colab_type": "text"
      },
      "source": [
        "<a href=\"https://colab.research.google.com/github/sneha31415/python/blob/main/WE6_20240311.ipynb\" target=\"_parent\"><img src=\"https://colab.research.google.com/assets/colab-badge.svg\" alt=\"Open In Colab\"/></a>"
      ]
    },
    {
      "cell_type": "code",
      "execution_count": null,
      "metadata": {
        "id": "tCNkH9RssGUX"
      },
      "outputs": [],
      "source": [
        "sum(filter(lambda x: x % 2 == 0, range(10)))"
      ]
    },
    {
      "cell_type": "code",
      "source": [
        "sum?"
      ],
      "metadata": {
        "id": "nZAu3TcRuV4t"
      },
      "execution_count": null,
      "outputs": []
    },
    {
      "cell_type": "code",
      "source": [
        "filter(lambda k: k % 2 == 0, range(10))"
      ],
      "metadata": {
        "id": "hh5whvrtx8M0"
      },
      "execution_count": null,
      "outputs": []
    },
    {
      "cell_type": "code",
      "source": [
        "list(filter(lambda k: k % 2 == 0, range(10)))"
      ],
      "metadata": {
        "id": "jgsOJfSRxv3T"
      },
      "execution_count": null,
      "outputs": []
    },
    {
      "cell_type": "code",
      "source": [
        "even = lambda k: k % 2 == 0"
      ],
      "metadata": {
        "id": "-lFW6N52yIW_"
      },
      "execution_count": null,
      "outputs": []
    },
    {
      "cell_type": "code",
      "source": [
        "max(filter(even, range(10)))"
      ],
      "metadata": {
        "id": "Tu1THwQ_ySKl"
      },
      "execution_count": null,
      "outputs": []
    },
    {
      "cell_type": "code",
      "source": [
        "sum(map(int, str(1287)))"
      ],
      "metadata": {
        "id": "8Zk11IK4yYOT"
      },
      "execution_count": null,
      "outputs": []
    },
    {
      "cell_type": "code",
      "source": [
        "(lambda p: p % 5 == 1)(12)"
      ],
      "metadata": {
        "id": "l7l8LWPnyo7P"
      },
      "execution_count": null,
      "outputs": []
    },
    {
      "cell_type": "code",
      "source": [
        "(lambda p: p % 5 == 1)(16)"
      ],
      "metadata": {
        "id": "IDbJ8UYZy-5N"
      },
      "execution_count": null,
      "outputs": []
    },
    {
      "cell_type": "code",
      "source": [
        "lambda n: n % 5 == 1"
      ],
      "metadata": {
        "id": "SbBau0eIzDdA"
      },
      "execution_count": null,
      "outputs": []
    },
    {
      "cell_type": "markdown",
      "source": [
        "# filter(f, S) $\\Rightarrow \\{x | x \\in S, f(x)\\}$\n",
        "\n",
        "## returns a new collection consisting of those elements of S for which $f$ is True"
      ],
      "metadata": {
        "id": "TP7-NCN5zb62"
      }
    },
    {
      "cell_type": "code",
      "source": [
        "even = lambda m: m % 2 == 0\n",
        "\n",
        "#def even(m: int) -> bool:\n",
        "#    return m % 2 == 0"
      ],
      "metadata": {
        "id": "O1C8TKZqz9Fg"
      },
      "execution_count": null,
      "outputs": []
    },
    {
      "cell_type": "code",
      "source": [
        "list(filter(lambda a: a % 2 == 0, [2, 7, 9, 12, 4]))"
      ],
      "metadata": {
        "id": "B6bttBRC0dAI"
      },
      "execution_count": null,
      "outputs": []
    },
    {
      "cell_type": "code",
      "source": [
        "type(filter(lambda a: a % 2 == 0, [2, 7, 9, 12, 4]))"
      ],
      "metadata": {
        "id": "maQcGEMn0-_b"
      },
      "execution_count": null,
      "outputs": []
    },
    {
      "cell_type": "code",
      "source": [
        "for x in filter(lambda a: a % 2 == 0, [2, 7, 9, 12, 4]):\n",
        "    print(x)"
      ],
      "metadata": {
        "id": "mBniET8-1mXX"
      },
      "execution_count": null,
      "outputs": []
    },
    {
      "cell_type": "code",
      "source": [
        "range(10)"
      ],
      "metadata": {
        "id": "GZWvDpQ_1t3R"
      },
      "execution_count": null,
      "outputs": []
    },
    {
      "cell_type": "code",
      "source": [
        "range(3, 14)"
      ],
      "metadata": {
        "id": "GBO8oPjZ2ob8"
      },
      "execution_count": null,
      "outputs": []
    },
    {
      "cell_type": "code",
      "source": [
        "list(range(3, 12))"
      ],
      "metadata": {
        "id": "Y1dlF2MT2qvz"
      },
      "execution_count": null,
      "outputs": []
    },
    {
      "cell_type": "code",
      "source": [
        "for p in range(3, 12):\n",
        "    print(p)"
      ],
      "metadata": {
        "id": "EpwacA7B2tK2"
      },
      "execution_count": null,
      "outputs": []
    },
    {
      "cell_type": "code",
      "source": [
        "map?"
      ],
      "metadata": {
        "id": "TiBZAoDo22ue"
      },
      "execution_count": null,
      "outputs": []
    },
    {
      "cell_type": "code",
      "source": [
        "map(max, [2, 6, 7, 8], [11, 3, 14, -4])"
      ],
      "metadata": {
        "id": "NMFBTM6G3Q0h"
      },
      "execution_count": null,
      "outputs": []
    },
    {
      "cell_type": "code",
      "source": [
        "list(map(max, [2, 6, 7, 8], [11, 3, 14, -4]))"
      ],
      "metadata": {
        "id": "rsUJR_pl3MYp"
      },
      "execution_count": null,
      "outputs": []
    },
    {
      "cell_type": "markdown",
      "source": [
        "# Write a function that checks the digits of a number are in strict ascending order\n",
        "## Example: 136789 is ascending, 1729 is not\n",
        "## strict means 1227 is **not** ascending"
      ],
      "metadata": {
        "id": "twTM7cwo3gLi"
      }
    },
    {
      "cell_type": "code",
      "source": [
        "# BAAAAAAAAAAAAD\n",
        "def is_ascending(n: int) -> bool:\n",
        "    digits = str(n)\n",
        "    for i in range(1, len(digits) - 1):\n",
        "        if digits[i] <= digits[i - 1]:\n",
        "            return False\n",
        "    return True"
      ],
      "metadata": {
        "id": "SAzC8h7F333Y"
      },
      "execution_count": null,
      "outputs": []
    },
    {
      "cell_type": "code",
      "source": [
        "is_ascending(1729)"
      ],
      "metadata": {
        "id": "g30OH3-d-_oz"
      },
      "execution_count": null,
      "outputs": []
    },
    {
      "cell_type": "code",
      "source": [
        "is_ascending(1267)"
      ],
      "metadata": {
        "id": "sX-HDA2L_BTW"
      },
      "execution_count": null,
      "outputs": []
    },
    {
      "cell_type": "code",
      "source": [
        "def is_ascending_1(n: int) -> bool:\n",
        "    s = str(n)\n",
        "    return ''.join(sorted(set(s))) == s"
      ],
      "metadata": {
        "id": "YWEN1DQP_DVL"
      },
      "execution_count": null,
      "outputs": []
    },
    {
      "cell_type": "code",
      "source": [
        "is_ascending_1(1227), is_ascending_1(1729), is_ascending_1(1278)"
      ],
      "metadata": {
        "id": "3DUy-miG_i5h"
      },
      "execution_count": null,
      "outputs": []
    },
    {
      "cell_type": "code",
      "source": [
        "def is_ascending_2(n: int) -> bool:\n",
        "    #def last_digit(n: int) -> int:\n",
        "    #    return n % 10\n",
        "    last_digit = lambda k: k % 10\n",
        "\n",
        "    if n < 10:\n",
        "        return True\n",
        "    elif last_digit(n) <= last_digit(n // 10):\n",
        "        # n % 10 <= (n//10) % 10\n",
        "        return False\n",
        "    else:\n",
        "        return is_ascending_2(n // 10)"
      ],
      "metadata": {
        "id": "1kcXJSOf_le0"
      },
      "execution_count": null,
      "outputs": []
    },
    {
      "cell_type": "code",
      "source": [
        "def is_ascending_3(n: int) -> bool:\n",
        "    s = str(n)\n",
        "    return all(map(lambda x, y: x < y, s, s[1:]))"
      ],
      "metadata": {
        "id": "TjBCMC89A8tX"
      },
      "execution_count": null,
      "outputs": []
    },
    {
      "cell_type": "code",
      "source": [
        "is_ascending_2(153), is_ascending_2(135)"
      ],
      "metadata": {
        "id": "JJRGHoW0Ch7S"
      },
      "execution_count": null,
      "outputs": []
    },
    {
      "cell_type": "code",
      "source": [
        "is_ascending_3(153), is_ascending_3(135)"
      ],
      "metadata": {
        "id": "AcvtElWMCosL"
      },
      "execution_count": null,
      "outputs": []
    },
    {
      "cell_type": "code",
      "source": [
        "def is_ascending_4(n: int) -> bool:\n",
        "    s = str(n)\n",
        "    return all([x < y for x, y in zip(s, s[1:])])"
      ],
      "metadata": {
        "id": "xYduNMVpDJ9l"
      },
      "execution_count": null,
      "outputs": []
    },
    {
      "cell_type": "code",
      "source": [
        "list(zip(\"1234\", \"abc\"))"
      ],
      "metadata": {
        "id": "eCpWr-tvEVoT"
      },
      "execution_count": null,
      "outputs": []
    },
    {
      "cell_type": "markdown",
      "source": [
        "# enumerate(it) == zip(range(len(it)), it)"
      ],
      "metadata": {
        "id": "A8M03gATEatp"
      }
    },
    {
      "cell_type": "markdown",
      "source": [
        "# a number is classified as\n",
        "## 'A' if it is strictly ascending\n",
        "## 'D' if it is strictly descending\n",
        "## 'P' if it has **ONLY ONE** peak (eg 12743, 12321) NOT: 127732, 1264382\n",
        "## 'V' if it has **ONLY ONE** valley: 76589\n",
        "## 'X' if it is none of the above"
      ],
      "metadata": {
        "id": "U7XlQcu3EvCN"
      }
    },
    {
      "cell_type": "code",
      "source": [],
      "metadata": {
        "id": "MdBDKetJFa3v"
      },
      "execution_count": null,
      "outputs": []
    }
  ]
}